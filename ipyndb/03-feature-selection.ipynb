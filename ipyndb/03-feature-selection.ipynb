{
 "cells": [
  {
   "cell_type": "code",
   "execution_count": 7,
   "metadata": {},
   "outputs": [
    {
     "name": "stdout",
     "output_type": "stream",
     "text": [
      "Index(['LotFrontage', 'LotArea', 'YearBuilt', 'YearRemodAdd', 'MasVnrArea',\n",
      "       'BsmtFinSF1', 'BsmtFinSF2', 'BsmtUnfSF', 'TotalBsmtSF', 'FirstFlrSF',\n",
      "       ...\n",
      "       'SaleType_ConLw', 'SaleType_New', 'SaleType_Oth', 'SaleType_WD',\n",
      "       'SaleCondition_Abnorml', 'SaleCondition_AdjLand',\n",
      "       'SaleCondition_Alloca', 'SaleCondition_Family', 'SaleCondition_Normal',\n",
      "       'SaleCondition_Partial'],\n",
      "      dtype='object', length=383)\n"
     ]
    }
   ],
   "source": [
    "from sklearn.model_selection import train_test_split\n",
    "from sklearn.neighbors import KNeighborsRegressor\n",
    "import seaborn as sns\n",
    "import collections\n",
    "import matplotlib.pyplot as plt\n",
    "\n",
    "%matplotlib inline\n",
    "\n",
    "%run ../src/load_deskew.py"
   ]
  },
  {
   "cell_type": "code",
   "execution_count": 8,
   "metadata": {},
   "outputs": [],
   "source": [
    "def calculate_r_2_for_feature(data,feature):\n",
    "    new_data = data.drop(feature, axis=1)\n",
    "\n",
    "    X_train, \\\n",
    "    X_test,  \\\n",
    "    y_train, \\\n",
    "    y_test = train_test_split(\n",
    "        new_data,data[feature],test_size=0.25\n",
    "    )\n",
    "\n",
    "    regressor = KNeighborsRegressor()\n",
    "    regressor.fit(X_train,y_train)\n",
    "\n",
    "    score = regressor.score(X_test,y_test)\n",
    "    return score\n",
    "\n",
    "def mean_r2_for_feature(data, feature):\n",
    "    scores = []\n",
    "    for _ in range(10):\n",
    "        scores.append(calculate_r_2_for_feature(data, feature))\n",
    "        \n",
    "    scores = np.array(scores)\n",
    "    return scores.mean()"
   ]
  },
  {
   "cell_type": "code",
   "execution_count": 9,
   "metadata": {},
   "outputs": [
    {
     "name": "stdout",
     "output_type": "stream",
     "text": [
      "Variable             Type         Data/Info\n",
      "-------------------------------------------\n",
      "housing_df           DataFrame         MSSubClass MSZoning <...>n[1451 rows x 80 columns]\n",
      "housing_gelman_df    DataFrame          LotFrontage   LotAr<...>[1451 rows x 383 columns]\n",
      "housing_log_df       DataFrame          LotFrontage    LotA<...>[1451 rows x 383 columns]\n",
      "housing_one_hot_df   DataFrame          LotFrontage  LotAre<...>[1451 rows x 383 columns]\n",
      "listing_df           DataFrame            Id Street Alley  <...>n[1460 rows x 62 columns]\n",
      "sale_df              DataFrame            Id  MoSold  YrSol<...>\\n[1460 rows x 6 columns]\n",
      "zoning_df            DataFrame            Id  MSSubClass MS<...>n[1460 rows x 15 columns]\n"
     ]
    }
   ],
   "source": [
    "whos DataFrame"
   ]
  },
  {
   "cell_type": "code",
   "execution_count": 20,
   "metadata": {},
   "outputs": [
    {
     "name": "stdout",
     "output_type": "stream",
     "text": [
      "Calculate R2 Score for 23 features\n",
      "LotFrontage              0.4902102266981682\n",
      "LotArea                  0.5761973829020407\n",
      "YearBuilt                0.7734672266705804\n",
      "YearRemodAdd             0.4757391392873644\n",
      "MasVnrArea               0.5271057387751288\n",
      "BsmtFinSF1               0.3985476290524557\n",
      "BsmtFinSF2               0.34418415758647253\n",
      "BsmtUnfSF                0.3491859831335409\n",
      "TotalBsmtSF              0.9316670058990933\n",
      "FirstFlrSF               0.59631510716913\n",
      "SecondFlrSF              0.6604871906069445\n",
      "LowQualFinSF             -0.0372734505756959\n",
      "GrLivArea                0.6051714217817106\n",
      "GarageYrBlt              0.6570027155680227\n",
      "GarageArea               0.7761418633183859\n",
      "WoodDeckSF               0.028579978838880117\n",
      "OpenPorchSF              0.22376461196591863\n",
      "EnclosedPorch            0.028541079896101208\n",
      "ThreeSsnPorch            -0.550267233098837\n",
      "ScreenPorch              -0.1633613889705809\n",
      "PoolArea                 0.26849220217671504\n",
      "MiscVal                  0.2591835299963877\n",
      "YrSold                   -0.14599955286409808\n"
     ]
    }
   ],
   "source": [
    "r2_results = {}\n",
    "numeric_cols = housing_df.drop(['SalePrice'], axis=1).select_dtypes(exclude=['category']).columns\n",
    "housing_final_df = housing_gelman_df.drop(['SalePrice'], axis=1)\n",
    "print(\"Calculate R2 Score for {} features\".format(len(numeric_cols)))\n",
    "for col in numeric_cols:\n",
    "    r2 = mean_r2_for_feature(housing_final_df, col)\n",
    "    print(\"{:24} {}\".format(col, r2))\n",
    "    r2_results[col] = r2"
   ]
  },
  {
   "cell_type": "code",
   "execution_count": 22,
   "metadata": {},
   "outputs": [],
   "source": [
    "sorted_r2_results = [(k, r2_results[k]) for k in sorted(r2_results, key=r2_results.get)]"
   ]
  },
  {
   "cell_type": "markdown",
   "metadata": {},
   "source": [
    "R2 scores closer to 1 generally mean features that are redundant features. Let's use the features with the smallest R2 scores for useful features."
   ]
  },
  {
   "cell_type": "code",
   "execution_count": 24,
   "metadata": {},
   "outputs": [
    {
     "name": "stdout",
     "output_type": "stream",
     "text": [
      "0\tThreeSsnPorch\t\t-0.550267233098837\n",
      "1\tScreenPorch\t\t-0.1633613889705809\n",
      "2\tYrSold\t\t-0.14599955286409808\n",
      "3\tLowQualFinSF\t\t-0.0372734505756959\n",
      "4\tEnclosedPorch\t\t0.028541079896101208\n",
      "5\tWoodDeckSF\t\t0.028579978838880117\n",
      "6\tOpenPorchSF\t\t0.22376461196591863\n",
      "7\tMiscVal\t\t0.2591835299963877\n",
      "8\tPoolArea\t\t0.26849220217671504\n",
      "9\tBsmtFinSF2\t\t0.34418415758647253\n"
     ]
    }
   ],
   "source": [
    "for i in range(10):\n",
    "    print(\"{}\\t{}\\t\\t{}\".format(i, sorted_r2_results[i][0], sorted_r2_results[i][1]))"
   ]
  },
  {
   "cell_type": "markdown",
   "metadata": {},
   "source": [
    "Let's actually use each feature's correlation to our target, \"SalePrice\""
   ]
  },
  {
   "cell_type": "code",
   "execution_count": 42,
   "metadata": {},
   "outputs": [
    {
     "data": {
      "text/plain": [
       "SalePrice           1.000000\n",
       "GrLivArea           0.730620\n",
       "FirstFlrSF          0.609835\n",
       "ExterQual_TA        0.595146\n",
       "YearBuilt           0.584085\n",
       "FullBath_1          0.573606\n",
       "YearRemodAdd        0.565244\n",
       "KitchenQual_TA      0.537961\n",
       "Foundation_PConc    0.529806\n",
       "GarageCars_3        0.526388\n",
       "ExterQual_Gd        0.511701\n",
       "Name: SalePrice-Abs, dtype: float64"
      ]
     },
     "execution_count": 42,
     "metadata": {},
     "output_type": "execute_result"
    }
   ],
   "source": [
    "corr = housing_gelman_df.corr()\n",
    "corr['SalePrice-Abs'] = abs(corr['SalePrice'])\n",
    "corr.sort_values(by=['SalePrice-Abs'], ascending=False)['SalePrice-Abs'][0:11]"
   ]
  },
  {
   "cell_type": "code",
   "execution_count": null,
   "metadata": {},
   "outputs": [],
   "source": []
  }
 ],
 "metadata": {
  "kernelspec": {
   "display_name": "Python 3",
   "language": "python",
   "name": "python3"
  },
  "language_info": {
   "codemirror_mode": {
    "name": "ipython",
    "version": 3
   },
   "file_extension": ".py",
   "mimetype": "text/x-python",
   "name": "python",
   "nbconvert_exporter": "python",
   "pygments_lexer": "ipython3",
   "version": "3.6.4"
  }
 },
 "nbformat": 4,
 "nbformat_minor": 2
}
