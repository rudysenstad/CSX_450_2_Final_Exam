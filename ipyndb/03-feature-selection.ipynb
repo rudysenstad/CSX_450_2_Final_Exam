{
 "cells": [
  {
   "cell_type": "code",
   "execution_count": 1,
   "metadata": {},
   "outputs": [],
   "source": [
    "from sklearn.model_selection import train_test_split\n",
    "from sklearn.neighbors import KNeighborsRegressor\n",
    "import seaborn as sns\n",
    "import collections\n",
    "import matplotlib.pyplot as plt\n",
    "\n",
    "%matplotlib inline\n",
    "\n",
    "%run ../src/load_deskew.py"
   ]
  },
  {
   "cell_type": "code",
   "execution_count": 2,
   "metadata": {},
   "outputs": [],
   "source": [
    "def calculate_r_2_for_feature(data,feature):\n",
    "    new_data = data.drop(feature, axis=1)\n",
    "\n",
    "    X_train, \\\n",
    "    X_test,  \\\n",
    "    y_train, \\\n",
    "    y_test = train_test_split(\n",
    "        new_data,data[feature],test_size=0.25\n",
    "    )\n",
    "\n",
    "    regressor = KNeighborsRegressor()\n",
    "    regressor.fit(X_train,y_train)\n",
    "\n",
    "    score = regressor.score(X_test,y_test)\n",
    "    return score\n",
    "\n",
    "def mean_r2_for_feature(data, feature):\n",
    "    scores = []\n",
    "    for _ in range(10):\n",
    "        scores.append(calculate_r_2_for_feature(data, feature))\n",
    "        \n",
    "    scores = np.array(scores)\n",
    "    return scores.mean()"
   ]
  },
  {
   "cell_type": "code",
   "execution_count": 3,
   "metadata": {},
   "outputs": [
    {
     "name": "stdout",
     "output_type": "stream",
     "text": [
      "Variable             Type         Data/Info\n",
      "-------------------------------------------\n",
      "housing_df           DataFrame         MSSubClass MSZoning <...>n[1451 rows x 80 columns]\n",
      "housing_num_df       DataFrame          LotFrontage  LotAre<...>n[1451 rows x 24 columns]\n",
      "housing_one_hot_df   DataFrame          LotFrontage   LotAr<...>[1451 rows x 383 columns]\n",
      "housing_orig_df      DataFrame         MSSubClass MSZoning <...>n[1451 rows x 80 columns]\n",
      "listing_df           DataFrame            Id Street Alley  <...>n[1460 rows x 62 columns]\n",
      "numeric_data_df      DataFrame          LotFrontage  LotAre<...>n[1451 rows x 24 columns]\n",
      "numeric_log_df       DataFrame          LotFrontage    LotA<...>n[1451 rows x 24 columns]\n",
      "numeric_scaled_df    DataFrame          LotFrontage   LotAr<...>n[1451 rows x 24 columns]\n",
      "sale_df              DataFrame            Id  MoSold  YrSol<...>\\n[1460 rows x 6 columns]\n",
      "zoning_df            DataFrame            Id  MSSubClass MS<...>n[1460 rows x 15 columns]\n"
     ]
    }
   ],
   "source": [
    "whos DataFrame"
   ]
  },
  {
   "cell_type": "code",
   "execution_count": 4,
   "metadata": {},
   "outputs": [
    {
     "name": "stdout",
     "output_type": "stream",
     "text": [
      "Calculate R2 Score for 23 features\n",
      "LotFrontage              0.5093780376764045\n",
      "LotArea                  0.5863224260278666\n",
      "YearBuilt                0.8793809829006021\n",
      "YearRemodAdd             0.47296660422379383\n",
      "MasVnrArea               0.6037667257459874\n",
      "BsmtFinSF1               0.5583438373590152\n",
      "BsmtFinSF2               0.20174062083856442\n",
      "BsmtUnfSF                0.40752723966851023\n",
      "TotalBsmtSF              0.8774897114201746\n",
      "FirstFlrSF               0.6634279688884662\n",
      "SecondFlrSF              0.843154964033684\n",
      "LowQualFinSF             -0.2499857053400143\n",
      "GrLivArea                0.7070475560427545\n",
      "GarageYrBlt              0.7030192545109573\n",
      "GarageArea               0.8549521700289683\n",
      "WoodDeckSF               0.031538033494748687\n",
      "OpenPorchSF              0.23718816387045122\n",
      "EnclosedPorch            0.09182654521345544\n",
      "ThreeSsnPorch            -0.27326100227795813\n",
      "ScreenPorch              -0.10572528954908829\n",
      "PoolArea                 0.06131942922586968\n",
      "MiscVal                  -0.08900988395681936\n",
      "YrSold                   -0.14300685108151281\n"
     ]
    }
   ],
   "source": [
    "r2_results = {}\n",
    "numeric_cols = housing_df.drop(['SalePrice'], axis=1).select_dtypes(exclude=['category']).columns\n",
    "housing_final_df = housing_one_hot_df.drop(['SalePrice'], axis=1)\n",
    "print(\"Calculate R2 Score for {} features\".format(len(numeric_cols)))\n",
    "for col in numeric_cols:\n",
    "    r2 = mean_r2_for_feature(housing_final_df, col)\n",
    "    print(\"{:24} {}\".format(col, r2))\n",
    "    r2_results[col] = r2"
   ]
  },
  {
   "cell_type": "code",
   "execution_count": 5,
   "metadata": {},
   "outputs": [],
   "source": [
    "sorted_r2_results = [(k, r2_results[k]) for k in sorted(r2_results, key=r2_results.get)]"
   ]
  },
  {
   "cell_type": "markdown",
   "metadata": {},
   "source": [
    "R2 scores closer to 1 generally mean features that are redundant. Perhaps we could assume those with the smallest R2 scores are the opposite of redundant and have some uniqueness."
   ]
  },
  {
   "cell_type": "code",
   "execution_count": 6,
   "metadata": {},
   "outputs": [
    {
     "name": "stdout",
     "output_type": "stream",
     "text": [
      "0\tThreeSsnPorch\t\t-0.27326100227795813\n",
      "1\tLowQualFinSF\t\t-0.2499857053400143\n",
      "2\tYrSold\t\t-0.14300685108151281\n",
      "3\tScreenPorch\t\t-0.10572528954908829\n",
      "4\tMiscVal\t\t-0.08900988395681936\n",
      "5\tWoodDeckSF\t\t0.031538033494748687\n",
      "6\tPoolArea\t\t0.06131942922586968\n",
      "7\tEnclosedPorch\t\t0.09182654521345544\n",
      "8\tBsmtFinSF2\t\t0.20174062083856442\n",
      "9\tOpenPorchSF\t\t0.23718816387045122\n",
      "10\tBsmtUnfSF\t\t0.40752723966851023\n",
      "11\tYearRemodAdd\t\t0.47296660422379383\n",
      "12\tLotFrontage\t\t0.5093780376764045\n",
      "13\tBsmtFinSF1\t\t0.5583438373590152\n",
      "14\tLotArea\t\t0.5863224260278666\n",
      "15\tMasVnrArea\t\t0.6037667257459874\n",
      "16\tFirstFlrSF\t\t0.6634279688884662\n",
      "17\tGarageYrBlt\t\t0.7030192545109573\n",
      "18\tGrLivArea\t\t0.7070475560427545\n",
      "19\tSecondFlrSF\t\t0.843154964033684\n",
      "20\tGarageArea\t\t0.8549521700289683\n",
      "21\tTotalBsmtSF\t\t0.8774897114201746\n",
      "22\tYearBuilt\t\t0.8793809829006021\n"
     ]
    }
   ],
   "source": [
    "for i in range(len(sorted_r2_results)):\n",
    "    print(\"{}\\t{}\\t\\t{}\".format(i, sorted_r2_results[i][0], sorted_r2_results[i][1]))"
   ]
  },
  {
   "cell_type": "markdown",
   "metadata": {},
   "source": [
    "Let's actually use each feature's correlation to our target, \"SalePrice\""
   ]
  },
  {
   "cell_type": "code",
   "execution_count": 7,
   "metadata": {},
   "outputs": [
    {
     "data": {
      "text/plain": [
       "SalePrice           1.000000\n",
       "GrLivArea           0.730620\n",
       "FirstFlrSF          0.609835\n",
       "ExterQual_TA        0.595146\n",
       "YearBuilt           0.584085\n",
       "FullBath_1          0.573606\n",
       "YearRemodAdd        0.565244\n",
       "KitchenQual_TA      0.537961\n",
       "Foundation_PConc    0.529806\n",
       "GarageCars_3        0.526388\n",
       "ExterQual_Gd        0.511701\n",
       "Fireplaces_0        0.511254\n",
       "FireplaceQu_None    0.511254\n",
       "FullBath_2          0.505694\n",
       "GarageYrBlt         0.497614\n",
       "BsmtQual_TA         0.477198\n",
       "HeatingQC_Ex        0.466062\n",
       "BsmtQual_Ex         0.462085\n",
       "OpenPorchSF         0.459409\n",
       "GarageArea          0.454535\n",
       "Name: SalePrice-Abs, dtype: float64"
      ]
     },
     "execution_count": 7,
     "metadata": {},
     "output_type": "execute_result"
    }
   ],
   "source": [
    "corr = housing_one_hot_df.corr()\n",
    "corr['SalePrice-Abs'] = abs(corr['SalePrice'])\n",
    "corr.sort_values(by=['SalePrice-Abs'], ascending=False)['SalePrice-Abs'][0:20]"
   ]
  },
  {
   "cell_type": "code",
   "execution_count": 8,
   "metadata": {},
   "outputs": [],
   "source": [
    "redundant_features = [ x[0] for x in sorted_r2_results if x[1] > 0.6]"
   ]
  },
  {
   "cell_type": "code",
   "execution_count": 9,
   "metadata": {},
   "outputs": [
    {
     "name": "stdout",
     "output_type": "stream",
     "text": [
      "Original R2: 0.7947302802605359\n",
      "Top 8 Redundant R2: 0.7870302060023142\n",
      "Top 6 Redundant R2: 0.7805990947351924\n",
      "Top 3 Redundant R2: 0.8073791343292573\n",
      "Top 2 Redundant R2: 0.8039710376550513\n",
      "Top 1 Redundant R2: 0.7957698365025647\n"
     ]
    }
   ],
   "source": [
    "all_features_r2 = mean_r2_for_feature(housing_one_hot_df, 'SalePrice')\n",
    "top8_redundant_features_r2 = mean_r2_for_feature(housing_one_hot_df.drop(redundant_features, axis=1), 'SalePrice')\n",
    "top6_redundant_features_r2 = mean_r2_for_feature(housing_one_hot_df.drop(redundant_features[-6:], axis=1), 'SalePrice')\n",
    "top3_redundant_features_r2 = mean_r2_for_feature(housing_one_hot_df.drop(redundant_features[-3:], axis=1), 'SalePrice')\n",
    "top2_redundant_features_r2 = mean_r2_for_feature(housing_one_hot_df.drop(redundant_features[-2:], axis=1), 'SalePrice')\n",
    "top1_redundant_features_r2 = mean_r2_for_feature(housing_one_hot_df.drop(redundant_features[-1], axis=1), 'SalePrice')\n",
    "print(\"Original R2: {}\".format(all_features_r2))\n",
    "print(\"Top 8 Redundant R2: {}\".format(top8_redundant_features_r2))\n",
    "print(\"Top 6 Redundant R2: {}\".format(top6_redundant_features_r2))\n",
    "print(\"Top 3 Redundant R2: {}\".format(top3_redundant_features_r2))\n",
    "print(\"Top 2 Redundant R2: {}\".format(top2_redundant_features_r2))\n",
    "print(\"Top 1 Redundant R2: {}\".format(top1_redundant_features_r2))"
   ]
  },
  {
   "cell_type": "markdown",
   "metadata": {},
   "source": [
    "### Top correlations to SalePrice that are not redundant"
   ]
  },
  {
   "cell_type": "code",
   "execution_count": 10,
   "metadata": {},
   "outputs": [
    {
     "data": {
      "text/plain": [
       "SalePrice           1.000000\n",
       "FirstFlrSF          0.609835\n",
       "ExterQual_TA        0.595146\n",
       "FullBath_1          0.573606\n",
       "YearRemodAdd        0.565244\n",
       "KitchenQual_TA      0.537961\n",
       "Foundation_PConc    0.529806\n",
       "GarageCars_3        0.526388\n",
       "ExterQual_Gd        0.511701\n",
       "FireplaceQu_None    0.511254\n",
       "Fireplaces_0        0.511254\n",
       "Name: SalePrice-Abs, dtype: float64"
      ]
     },
     "execution_count": 10,
     "metadata": {},
     "output_type": "execute_result"
    }
   ],
   "source": [
    "cols = [c for c in housing_one_hot_df.columns if c not in redundant_features[-6:]]\n",
    "no_redundant_features_df = housing_one_hot_df[cols]\n",
    "\n",
    "corr = no_redundant_features_df.corr()\n",
    "corr['SalePrice-Abs'] = abs(corr['SalePrice'])\n",
    "corr.sort_values(by=['SalePrice-Abs'], ascending=False)['SalePrice-Abs'][0:11]\n"
   ]
  },
  {
   "cell_type": "code",
   "execution_count": null,
   "metadata": {},
   "outputs": [],
   "source": []
  }
 ],
 "metadata": {
  "kernelspec": {
   "display_name": "Python 3",
   "language": "python",
   "name": "python3"
  },
  "language_info": {
   "codemirror_mode": {
    "name": "ipython",
    "version": 3
   },
   "file_extension": ".py",
   "mimetype": "text/x-python",
   "name": "python",
   "nbconvert_exporter": "python",
   "pygments_lexer": "ipython3",
   "version": "3.6.4"
  }
 },
 "nbformat": 4,
 "nbformat_minor": 2
}
